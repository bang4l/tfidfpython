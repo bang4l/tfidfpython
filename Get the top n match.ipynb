{
 "cells": [
  {
   "cell_type": "markdown",
   "metadata": {},
   "source": [
    "## Library import"
   ]
  },
  {
   "cell_type": "code",
   "execution_count": 6,
   "metadata": {},
   "outputs": [],
   "source": [
    "import pandas as pd\n",
    "import numpy as np\n",
    "import time\n",
    "from sklearn.feature_extraction.text import TfidfVectorizer\n",
    "from sklearn.metrics.pairwise import cosine_similarity"
   ]
  },
  {
   "cell_type": "markdown",
   "metadata": {},
   "source": [
    "## Update the directory of all the input in the cell below"
   ]
  },
  {
   "cell_type": "code",
   "execution_count": 7,
   "metadata": {},
   "outputs": [],
   "source": [
    "Base = pd.read_csv('C:/Users/raam9001/lazada/may20/base_2020.csv') #path\n",
    "Input = pd.read_csv('C:/Users/raam9001/lazada/may20/input_maydiapers.csv') #path\n",
    "Output = pd.DataFrame(columns=['I_Code','I_Seq','I_Desc','B_Desc','B_GIC','CAT', 'BRAND', 'MANUFACTURER' , 'Pct'])"
   ]
  },
  {
   "cell_type": "code",
   "execution_count": 4,
   "metadata": {},
   "outputs": [
    {
     "data": {
      "text/html": [
       "<div>\n",
       "<style scoped>\n",
       "    .dataframe tbody tr th:only-of-type {\n",
       "        vertical-align: middle;\n",
       "    }\n",
       "\n",
       "    .dataframe tbody tr th {\n",
       "        vertical-align: top;\n",
       "    }\n",
       "\n",
       "    .dataframe thead th {\n",
       "        text-align: right;\n",
       "    }\n",
       "</style>\n",
       "<table border=\"1\" class=\"dataframe\">\n",
       "  <thead>\n",
       "    <tr style=\"text-align: right;\">\n",
       "      <th></th>\n",
       "      <th>External Code</th>\n",
       "      <th>Seq</th>\n",
       "      <th>S_Code</th>\n",
       "      <th>Best Received External Description</th>\n",
       "    </tr>\n",
       "  </thead>\n",
       "  <tbody>\n",
       "    <tr>\n",
       "      <td>27597</td>\n",
       "      <td>688026670</td>\n",
       "      <td>1</td>\n",
       "      <td>na</td>\n",
       "      <td>[Bundle of 3] Downy Premium Passion Concentrat...</td>\n",
       "    </tr>\n",
       "    <tr>\n",
       "      <td>27598</td>\n",
       "      <td>688022720</td>\n",
       "      <td>1</td>\n",
       "      <td>na</td>\n",
       "      <td>[Bundle of 3] Downy Garden Bloom Concentrate F...</td>\n",
       "    </tr>\n",
       "    <tr>\n",
       "      <td>27599</td>\n",
       "      <td>688044515</td>\n",
       "      <td>1</td>\n",
       "      <td>na</td>\n",
       "      <td>[Bundle of 3] Downy Sunrise Fresh Concentrate ...</td>\n",
       "    </tr>\n",
       "    <tr>\n",
       "      <td>27600</td>\n",
       "      <td>688076239</td>\n",
       "      <td>1</td>\n",
       "      <td>na</td>\n",
       "      <td>[Bundle of 3] Downy Garden Bloom Concentrate F...</td>\n",
       "    </tr>\n",
       "    <tr>\n",
       "      <td>27601</td>\n",
       "      <td>688056339</td>\n",
       "      <td>1</td>\n",
       "      <td>na</td>\n",
       "      <td>[Bundle of 3] Downy Premium Secret Garden Conc...</td>\n",
       "    </tr>\n",
       "  </tbody>\n",
       "</table>\n",
       "</div>"
      ],
      "text/plain": [
       "       External Code  Seq S_Code  \\\n",
       "27597      688026670    1     na   \n",
       "27598      688022720    1     na   \n",
       "27599      688044515    1     na   \n",
       "27600      688076239    1     na   \n",
       "27601      688056339    1     na   \n",
       "\n",
       "                      Best Received External Description  \n",
       "27597  [Bundle of 3] Downy Premium Passion Concentrat...  \n",
       "27598  [Bundle of 3] Downy Garden Bloom Concentrate F...  \n",
       "27599  [Bundle of 3] Downy Sunrise Fresh Concentrate ...  \n",
       "27600  [Bundle of 3] Downy Garden Bloom Concentrate F...  \n",
       "27601  [Bundle of 3] Downy Premium Secret Garden Conc...  "
      ]
     },
     "execution_count": 4,
     "metadata": {},
     "output_type": "execute_result"
    }
   ],
   "source": [
    "Input.tail()"
   ]
  },
  {
   "cell_type": "code",
   "execution_count": null,
   "metadata": {},
   "outputs": [],
   "source": []
  },
  {
   "cell_type": "markdown",
   "metadata": {},
   "source": [
    "## Change to value of n depends on the how many top match you want"
   ]
  },
  {
   "cell_type": "code",
   "execution_count": 8,
   "metadata": {},
   "outputs": [
    {
     "name": "stdout",
     "output_type": "stream",
     "text": [
      "SELFTIMED: 200.65300178527832\n"
     ]
    }
   ],
   "source": [
    "t1 = time.time()\n",
    "B_Desc_List = Base['DESCRIPTION'].astype(str).values.tolist()\n",
    "I_Desc_List = Input['Best Received External Description'].astype(str).values.tolist()    \n",
    "\n",
    "S_Mat = I_Desc_List + B_Desc_List\n",
    "vectorizer = TfidfVectorizer(stop_words = 'english')\n",
    "vectors = vectorizer.fit_transform(S_Mat)\n",
    "\n",
    "for I_index,I_row in Input.iterrows():\n",
    "    I_Code = I_row[0]\n",
    "    I_Seq = I_row[1]\n",
    "    I_Desc = I_row[3]\n",
    "    \n",
    "    B_index = len(I_Desc_List)\n",
    "    All_Pct = cosine_similarity(vectors[I_index], vectors)[0,B_index:]\n",
    "    # Change me!\n",
    "    n = 1\n",
    "    # Change me!\n",
    "    for top_n in range(1,n+1):\n",
    "        Index = np.ndarray.argmax(All_Pct)\n",
    "        B_Desc = Base.iloc[Index,2]\n",
    "        B_GIC = Base.iloc[Index,3]\n",
    "        CAT = Base.iloc[Index,4]\n",
    "        BRAND = Base.iloc[Index,5]\n",
    "        MANUFACTURER = Base.iloc[Index,6]\n",
    "        Pct =  np.ndarray.max(All_Pct)\n",
    "        All_Pct[Index] = 0\n",
    "        \n",
    "        Output = Output.append({'I_Code' : I_Code , 'I_Seq' : I_Seq ,'I_Desc' : I_Desc ,\n",
    "                                  'B_Desc' : B_Desc , 'B_GIC' : B_GIC , 'CAT' : CAT , 'BRAND' : BRAND , \n",
    "                                'MANUFACTURER' : MANUFACTURER , 'Pct' : Pct} , ignore_index=True)\n",
    "        top_n +=1\n",
    "    \n",
    "    I_index += 1\n",
    "\n",
    "t2 = time.time()\n",
    "t = t2 - t1\n",
    "print(\"SELFTIMED:\", t)"
   ]
  },
  {
   "cell_type": "code",
   "execution_count": null,
   "metadata": {},
   "outputs": [],
   "source": []
  },
  {
   "cell_type": "markdown",
   "metadata": {},
   "source": [
    "## Update the directory for your output file in the cell below"
   ]
  },
  {
   "cell_type": "code",
   "execution_count": 9,
   "metadata": {},
   "outputs": [],
   "source": [
    "Output.to_csv(r'C:/Users/raam9001/lazada/may20/ouput_diaperseim.csv') #path"
   ]
  }
 ],
 "metadata": {
  "kernelspec": {
   "display_name": "Python 3",
   "language": "python",
   "name": "python3"
  },
  "language_info": {
   "codemirror_mode": {
    "name": "ipython",
    "version": 3
   },
   "file_extension": ".py",
   "mimetype": "text/x-python",
   "name": "python",
   "nbconvert_exporter": "python",
   "pygments_lexer": "ipython3",
   "version": "3.7.4"
  }
 },
 "nbformat": 4,
 "nbformat_minor": 2
}
